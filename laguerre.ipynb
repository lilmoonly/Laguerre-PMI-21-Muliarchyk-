{
 "cells": [
  {
   "cell_type": "markdown",
   "id": "445480e4-5818-4039-b2c1-1aa6153fa8ee",
   "metadata": {
    "tags": []
   },
   "source": [
    "# Перетворення Лагера"
   ]
  },
  {
   "cell_type": "code",
   "execution_count": 22,
   "id": "96935c16-844e-4d6c-909e-9013c5a7f49a",
   "metadata": {
    "tags": []
   },
   "outputs": [],
   "source": [
    "import math\n",
    "import matplotlib.pyplot as plt\n",
    "import numpy as np\n",
    "import pandas as pd\n",
    "from ipywidgets import interactive, interactive_output, fixed, IntSlider, FloatSlider\n",
    "import ipywidgets as widgets"
   ]
  },
  {
   "cell_type": "markdown",
   "id": "2ef43cad-1831-4b05-a043-8096424784bb",
   "metadata": {
    "tags": []
   },
   "source": [
    "## Многочлени Лагера (1)"
   ]
  },
  {
   "cell_type": "markdown",
   "id": "bc48a439-a1e0-4539-9e15-aca6a442d029",
   "metadata": {
    "tags": []
   },
   "source": [
    "### Завдання №1\n",
    "Побудувати функцiю для обчислення значення функцiї Лаґерра за\n",
    "формулою (1.2) для довiльних t i n, а параметри задавати за замовчуванням β = 2, σ = 4.\n",
    "### Теоритичні відомості до завдання 1\n",
    "Функції Лагерра задають формулою\n",
    "\n",
    "$$\n",
    "l_{n}(t):=\\sqrt{\\sigma} L_{n}(\\sigma t) e^{-\\frac{\\beta}{2} t}, t \\in \\mathbb{R}_{+}, n \\in \\mathbb{N}_{0} \\quad(1.1)\n",
    "$$\n",
    "\n",
    "де\n",
    "\n",
    "$L_{n}-$ поліноми Лаґерра,\n",
    "\n",
    "$0 \\leq \\beta \\leq \\sigma-$ параметри, дійсні числа.\n",
    "\n",
    "Для обчислень функцій Лагерра використовують рекурентну формулу\n",
    "\n",
    "$$\n",
    "\\begin{array}{r}\n",
    "l_{n}(t)=\\frac{2 n-1-\\sigma t}{n} l_{n-1}(t)-\\frac{n-1}{n} l_{n-2}(t), \\quad n \\geq 2, \\quad (1.2)\\\\ \n",
    "l_{0}(t)=\\sqrt{\\sigma} e^{-\\frac{\\beta}{2} t}, \\quad l_{1}(t)=\\sqrt{\\sigma}(1-\\sigma t) e^{-\\frac{\\beta}{2} t} . \n",
    "\\end{array}\n",
    "$$\n",
    "Нижче наведений код побудованої рекурентної функції для обчислення значення функцiї Лаґерра за\n",
    "формулою (1.2) для довiльних t i n, а параметри задані за замовчуванням β = 2, σ = 4."
   ]
  },
  {
   "cell_type": "code",
   "execution_count": 23,
   "id": "b804714c-4dc9-4488-97f6-2d6f9ee067d2",
   "metadata": {
    "tags": []
   },
   "outputs": [],
   "source": [
    "def laguerre(t, n, beta=2, sigma=4):\n",
    "    \n",
    "    #Перевірка вхідних даних\n",
    "    if n < 0:\n",
    "        raise ValueError('Value \"n\" must be positive')\n",
    "        \n",
    "    if beta < 0:\n",
    "        raise ValueError('Value \"beta\" must be positive')\n",
    "\n",
    "    if sigma < beta:\n",
    "        raise ValueError('Value \"sigma\" must be greater than beta')\n",
    "\n",
    "    \n",
    "    #Обчислення значення функції Лаґерра при n = 0 та n = 1\n",
    "    l_0 = np.sqrt(sigma) * (np.exp(-beta * t / 2))\n",
    "    l_1 = np.sqrt(sigma) * (1 - sigma * t) * (np.exp(-beta * t / 2))\n",
    "\n",
    "    if n == 0:\n",
    "        return l_0\n",
    "    if n == 1:\n",
    "        return l_1\n",
    "    #Обчислення значення функції Лаґерра при n>=2\n",
    "    if n >= 2:\n",
    "        l_next = (2 * 2 - 1 - t * sigma) / 2 * l_1 - (2 - 1) / 2 * l_0\n",
    "        for j in range(3, n+1):\n",
    "            l_0 = l_1\n",
    "            l_1 = l_next\n",
    "            l_next = (2 * j - 1 - t * sigma) / j * l_1 - (j - 1) / j * l_0\n",
    "        return l_next"
   ]
  },
  {
   "cell_type": "markdown",
   "id": "8bce313f-c9c9-4a15-81f1-13bdd73b3f35",
   "metadata": {},
   "source": [
    "Тестуємо нашу функцію при t = 7, n = 5, β = 2, σ = 4"
   ]
  },
  {
   "cell_type": "markdown",
   "id": "3fac97b2-fc10-463f-9226-857c0a9165c4",
   "metadata": {},
   "source": [
    "## Табуляція многочленів Лагера (2)"
   ]
  },
  {
   "cell_type": "markdown",
   "id": "e7c00c20-d019-477e-aa3d-618b911d39e3",
   "metadata": {},
   "source": [
    "### Завдання №2\n",
    "Побудувати функцію для табулювання при заданих $n, \\beta, \\sigma$ функції Лагерра на відрізку $[0, T]$ із заданим $T \\in \\mathbb{R}_{+}$."
   ]
  },
  {
   "cell_type": "markdown",
   "id": "d701286e-a717-42ed-959a-1f76cabdb4aa",
   "metadata": {
    "tags": []
   },
   "source": [
    "Реалізація функції наведена в комірці нижче"
   ]
  },
  {
   "cell_type": "code",
   "execution_count": 24,
   "id": "5f756ec2-5af6-4607-8d7e-b69ea8b7d80c",
   "metadata": {
    "tags": []
   },
   "outputs": [],
   "source": [
    "def tabulate_laguerre(T, t_step = 0.01, n=2, beta=2, sigma=4):\n",
    "    \n",
    "    #Перевірка вхідних даних\n",
    "    if t_step < 0:\n",
    "        raise ValueError('Value \"T step\" must be positive')\n",
    "    if n < 0:\n",
    "        raise ValueError('Value \"n\" must be positive')\n",
    "        \n",
    "    if beta < 0:\n",
    "        raise ValueError('Value \"beta\" must be positive')\n",
    "\n",
    "    if sigma < beta:\n",
    "        raise ValueError('Value \"sigma\" must be greater than beta')\n",
    "        \n",
    "    t = np.arange(0, T, t_step)\n",
    "    return t, laguerre(t, n, beta, sigma)"
   ]
  },
  {
   "cell_type": "markdown",
   "id": "c4aa9de3-e3cf-4ef2-8787-0ad29933a92c",
   "metadata": {
    "tags": []
   },
   "source": [
    "Нижче реалізоване вивидення табулювання у вигляді графіка та таблиці. Тестуємо нашу функцію при $T=7$"
   ]
  },
  {
   "cell_type": "code",
   "execution_count": 25,
   "id": "13903722-2ea0-4f82-8701-d19c2cc2a313",
   "metadata": {
    "tags": []
   },
   "outputs": [
    {
     "data": {
      "image/png": "[encoded data removed]",
      "text/plain": [
       "<Figure size 640x480 with 1 Axes>"
      ]
     },
     "metadata": {},
     "output_type": "display_data"
    },
    {
     "data": {
      "text/html": [
       "<div>\n",
       "<style scoped>\n",
       "    .dataframe tbody tr th:only-of-type {\n",
       "        vertical-align: middle;\n",
       "    }\n",
       "\n",
       "    .dataframe tbody tr th {\n",
       "        vertical-align: top;\n",
       "    }\n",
       "\n",
       "    .dataframe thead th {\n",
       "        text-align: right;\n",
       "    }\n",
       "</style>\n",
       "<table border=\"1\" class=\"dataframe\">\n",
       "  <thead>\n",
       "    <tr style=\"text-align: right;\">\n",
       "      <th></th>\n",
       "      <th>t</th>\n",
       "      <th>L</th>\n",
       "    </tr>\n",
       "  </thead>\n",
       "  <tbody>\n",
       "    <tr>\n",
       "      <th>0</th>\n",
       "      <td>0.00</td>\n",
       "      <td>2.000000</td>\n",
       "    </tr>\n",
       "    <tr>\n",
       "      <th>1</th>\n",
       "      <td>0.01</td>\n",
       "      <td>1.823276</td>\n",
       "    </tr>\n",
       "    <tr>\n",
       "      <th>2</th>\n",
       "      <td>0.02</td>\n",
       "      <td>1.653007</td>\n",
       "    </tr>\n",
       "    <tr>\n",
       "      <th>3</th>\n",
       "      <td>0.03</td>\n",
       "      <td>1.489052</td>\n",
       "    </tr>\n",
       "    <tr>\n",
       "      <th>4</th>\n",
       "      <td>0.04</td>\n",
       "      <td>1.331270</td>\n",
       "    </tr>\n",
       "    <tr>\n",
       "      <th>...</th>\n",
       "      <td>...</td>\n",
       "      <td>...</td>\n",
       "    </tr>\n",
       "    <tr>\n",
       "      <th>695</th>\n",
       "      <td>6.95</td>\n",
       "      <td>0.636189</td>\n",
       "    </tr>\n",
       "    <tr>\n",
       "      <th>696</th>\n",
       "      <td>6.96</td>\n",
       "      <td>0.631819</td>\n",
       "    </tr>\n",
       "    <tr>\n",
       "      <th>697</th>\n",
       "      <td>6.97</td>\n",
       "      <td>0.627476</td>\n",
       "    </tr>\n",
       "    <tr>\n",
       "      <th>698</th>\n",
       "      <td>6.98</td>\n",
       "      <td>0.623160</td>\n",
       "    </tr>\n",
       "    <tr>\n",
       "      <th>699</th>\n",
       "      <td>6.99</td>\n",
       "      <td>0.618871</td>\n",
       "    </tr>\n",
       "  </tbody>\n",
       "</table>\n",
       "<p>700 rows × 2 columns</p>\n",
       "</div>"
      ],
      "text/plain": [
       "        t         L\n",
       "0    0.00  2.000000\n",
       "1    0.01  1.823276\n",
       "2    0.02  1.653007\n",
       "3    0.03  1.489052\n",
       "4    0.04  1.331270\n",
       "..    ...       ...\n",
       "695  6.95  0.636189\n",
       "696  6.96  0.631819\n",
       "697  6.97  0.627476\n",
       "698  6.98  0.623160\n",
       "699  6.99  0.618871\n",
       "\n",
       "[700 rows x 2 columns]"
      ]
     },
     "execution_count": 25,
     "metadata": {},
     "output_type": "execute_result"
    }
   ],
   "source": [
    "t, data = tabulate_laguerre(7)\n",
    "plt.plot(t, data, color = \"#68f7f5\")\n",
    "plt.title(\"Laguerre function\")\n",
    "plt.xlabel(\"T\")\n",
    "plt.ylabel(\"Result\")\n",
    "plt.savefig(\"lag_graph_0\")\n",
    "plt.show()\n",
    "df = pd.DataFrame({\"t\": t, f\"L\": data})\n",
    "df"
   ]
  },
  {
   "cell_type": "markdown",
   "id": "9f6a45e6-96c8-4526-b73d-b56ba3ca39ec",
   "metadata": {},
   "source": [
    "## Обчислювальний експеримент (3)"
   ]
  },
  {
   "cell_type": "markdown",
   "id": "c4d04d99-0f5c-4e5e-9093-a84598d10b0b",
   "metadata": {
    "tags": []
   },
   "source": [
    "### Завдання №3\n",
    "Провести обчислювальний експеримент: для $N=20$ на основі графіків з п. 2 знайти точку $T>0$, щоб $\\left|l_{n}(T)\\right|<\\varepsilon=10^{-3}$ для усіх $n \\in[0, N]$. Побудувати табличку для $\\left|l_{n}(T)\\right|$ для усіх $n \\in[0, N]$."
   ]
  },
  {
   "cell_type": "markdown",
   "id": "064c024e-1dc7-4955-997a-200d905bdd21",
   "metadata": {
    "tags": []
   },
   "source": [
    "Реалізація експеременту наведена в комірці нижче.\n",
    "В експеременті за допомогою циклу for ми знаходимо таку точку $T>0$, щоб $\\left|l_{n}(T)\\right|<\\varepsilon=10^{-3}$ для усіх $n \\in[0, N]$. Функція повертає точку $T$ та DataFrame з $\\left|l_{n}(T)\\right|$ для усіх $n \\in[0, N]$."
   ]
  },
  {
   "cell_type": "code",
   "execution_count": 26,
   "id": "e0259960-2994-430e-9a32-8ad2ae10dfee",
   "metadata": {
    "tags": []
   },
   "outputs": [],
   "source": [
    "def laguerre_experiment(T, beta, sigma, epsilon=0.001, N=20):\n",
    "    \n",
    "    #Перевірка вхідних даних\n",
    "    if beta < 0:\n",
    "        raise ValueError('Value \"beta\" must be positive')\n",
    "\n",
    "    if sigma < beta:\n",
    "        raise ValueError('Value \"sigma\" must be greater than beta')\n",
    "    \n",
    "    if epsilon < 0:\n",
    "        raise ValueError('Value \"epsilon\" must be positive')\n",
    "        \n",
    "    if N < 0:\n",
    "        raise ValueError('Value \"N\" must be positive')\n",
    "    \n",
    "    t = np.linspace(0, T, 1000)\n",
    "    n = range(0, N+1)\n",
    "    result = None\n",
    "    for i in t:\n",
    "        flag = True\n",
    "        for j in n:\n",
    "            if abs(laguerre(i, j, beta, sigma)) > epsilon:\n",
    "                flag = False\n",
    "                break\n",
    "        if flag and result is None:\n",
    "            result = i\n",
    "\n",
    "\n",
    "    cols = {\"t\" : t}\n",
    "    for j in n:\n",
    "        cols[f\"n={j}\"] = laguerre(t, j, beta, sigma)\n",
    "\n",
    "    df = pd.DataFrame(cols)\n",
    "\n",
    "    return result, df.round(5)"
   ]
  },
  {
   "cell_type": "markdown",
   "id": "447f717b-dbf9-4983-9326-2f7b02742eb5",
   "metadata": {},
   "source": [
    "Тестуємо нашу функцію при $T = 100,  \\beta = 2, \\sigma = 4$"
   ]
  },
  {
   "cell_type": "code",
   "execution_count": 27,
   "id": "1ede95cd-20a7-4d86-a6ce-c5c999da117e",
   "metadata": {
    "tags": []
   },
   "outputs": [],
   "source": [
    "T, df = laguerre_experiment(100, 2, 4)"
   ]
  },
  {
   "cell_type": "markdown",
   "id": "f886c17b-c183-457d-a07a-1ffa32952a40",
   "metadata": {},
   "source": [
    "Виводимо наше шукане $\\left|l_{n}(T)\\right|<\\varepsilon=10^{-3}$ для усіх $n \\in[0, N]$ та таблицю $\\left|l_{n}(T)\\right|$ для усіх $n \\in[0, N]$."
   ]
  },
  {
   "cell_type": "code",
   "execution_count": 28,
   "id": "9a3d30a1-83af-469b-a0c8-ef268ac677c2",
   "metadata": {
    "tags": []
   },
   "outputs": [
    {
     "data": {
      "text/plain": [
       "79.07907907907908"
      ]
     },
     "execution_count": 28,
     "metadata": {},
     "output_type": "execute_result"
    }
   ],
   "source": [
    "T"
   ]
  },
  {
   "cell_type": "code",
   "execution_count": 29,
   "id": "48f45a4a-ef0a-4a73-acd9-ddfa6a586e8e",
   "metadata": {
    "tags": []
   },
   "outputs": [
    {
     "data": {
      "text/html": [
       "<div>\n",
       "<style scoped>\n",
       "    .dataframe tbody tr th:only-of-type {\n",
       "        vertical-align: middle;\n",
       "    }\n",
       "\n",
       "    .dataframe tbody tr th {\n",
       "        vertical-align: top;\n",
       "    }\n",
       "\n",
       "    .dataframe thead th {\n",
       "        text-align: right;\n",
       "    }\n",
       "</style>\n",
       "<table border=\"1\" class=\"dataframe\">\n",
       "  <thead>\n",
       "    <tr style=\"text-align: right;\">\n",
       "      <th></th>\n",
       "      <th>t</th>\n",
       "      <th>n=0</th>\n",
       "      <th>n=1</th>\n",
       "      <th>n=2</th>\n",
       "      <th>n=3</th>\n",
       "      <th>n=4</th>\n",
       "      <th>n=5</th>\n",
       "      <th>n=6</th>\n",
       "      <th>n=7</th>\n",
       "      <th>n=8</th>\n",
       "      <th>...</th>\n",
       "      <th>n=11</th>\n",
       "      <th>n=12</th>\n",
       "      <th>n=13</th>\n",
       "      <th>n=14</th>\n",
       "      <th>n=15</th>\n",
       "      <th>n=16</th>\n",
       "      <th>n=17</th>\n",
       "      <th>n=18</th>\n",
       "      <th>n=19</th>\n",
       "      <th>n=20</th>\n",
       "    </tr>\n",
       "  </thead>\n",
       "  <tbody>\n",
       "    <tr>\n",
       "      <th>0</th>\n",
       "      <td>0.0000</td>\n",
       "      <td>2.00000</td>\n",
       "      <td>2.00000</td>\n",
       "      <td>2.00000</td>\n",
       "      <td>2.00000</td>\n",
       "      <td>2.00000</td>\n",
       "      <td>2.00000</td>\n",
       "      <td>2.00000</td>\n",
       "      <td>2.00000</td>\n",
       "      <td>2.00000</td>\n",
       "      <td>...</td>\n",
       "      <td>2.00000</td>\n",
       "      <td>2.00000</td>\n",
       "      <td>2.00000</td>\n",
       "      <td>2.00000</td>\n",
       "      <td>2.00000</td>\n",
       "      <td>2.00000</td>\n",
       "      <td>2.00000</td>\n",
       "      <td>2.00000</td>\n",
       "      <td>2.00000</td>\n",
       "      <td>2.00000</td>\n",
       "    </tr>\n",
       "    <tr>\n",
       "      <th>1</th>\n",
       "      <td>0.1001</td>\n",
       "      <td>1.80949</td>\n",
       "      <td>1.08497</td>\n",
       "      <td>0.50550</td>\n",
       "      <td>0.05172</td>\n",
       "      <td>-0.29380</td>\n",
       "      <td>-0.54668</td>\n",
       "      <td>-0.72094</td>\n",
       "      <td>-0.82906</td>\n",
       "      <td>-0.88217</td>\n",
       "      <td>...</td>\n",
       "      <td>-0.80442</td>\n",
       "      <td>-0.72510</td>\n",
       "      <td>-0.62955</td>\n",
       "      <td>-0.52282</td>\n",
       "      <td>-0.40925</td>\n",
       "      <td>-0.29253</td>\n",
       "      <td>-0.17579</td>\n",
       "      <td>-0.06163</td>\n",
       "      <td>0.04782</td>\n",
       "      <td>0.15085</td>\n",
       "    </tr>\n",
       "    <tr>\n",
       "      <th>2</th>\n",
       "      <td>0.2002</td>\n",
       "      <td>1.63713</td>\n",
       "      <td>0.32612</td>\n",
       "      <td>-0.45997</td>\n",
       "      <td>-0.86125</td>\n",
       "      <td>-0.98978</td>\n",
       "      <td>-0.93409</td>\n",
       "      <td>-0.76300</td>\n",
       "      <td>-0.52907</td>\n",
       "      <td>-0.27143</td>\n",
       "      <td>...</td>\n",
       "      <td>0.40417</td>\n",
       "      <td>0.55421</td>\n",
       "      <td>0.65857</td>\n",
       "      <td>0.71780</td>\n",
       "      <td>0.73477</td>\n",
       "      <td>0.71390</td>\n",
       "      <td>0.66063</td>\n",
       "      <td>0.58092</td>\n",
       "      <td>0.48093</td>\n",
       "      <td>0.36668</td>\n",
       "    </tr>\n",
       "    <tr>\n",
       "      <th>3</th>\n",
       "      <td>0.3003</td>\n",
       "      <td>1.48119</td>\n",
       "      <td>-0.29802</td>\n",
       "      <td>-1.00863</td>\n",
       "      <td>-1.07852</td>\n",
       "      <td>-0.80705</td>\n",
       "      <td>-0.39600</td>\n",
       "      <td>0.02583</td>\n",
       "      <td>0.38297</td>\n",
       "      <td>0.63795</td>\n",
       "      <td>...</td>\n",
       "      <td>0.75506</td>\n",
       "      <td>0.62619</td>\n",
       "      <td>0.44937</td>\n",
       "      <td>0.24662</td>\n",
       "      <td>0.03764</td>\n",
       "      <td>-0.16110</td>\n",
       "      <td>-0.33677</td>\n",
       "      <td>-0.48021</td>\n",
       "      <td>-0.58574</td>\n",
       "      <td>-0.65081</td>\n",
       "    </tr>\n",
       "    <tr>\n",
       "      <th>4</th>\n",
       "      <td>0.4004</td>\n",
       "      <td>1.34010</td>\n",
       "      <td>-0.80621</td>\n",
       "      <td>-1.23375</td>\n",
       "      <td>-0.86012</td>\n",
       "      <td>-0.23551</td>\n",
       "      <td>0.33962</td>\n",
       "      <td>0.72824</td>\n",
       "      <td>0.89472</td>\n",
       "      <td>0.86127</td>\n",
       "      <td>...</td>\n",
       "      <td>0.09748</td>\n",
       "      <td>-0.19735</td>\n",
       "      <td>-0.44519</td>\n",
       "      <td>-0.62440</td>\n",
       "      <td>-0.72499</td>\n",
       "      <td>-0.74672</td>\n",
       "      <td>-0.69683</td>\n",
       "      <td>-0.58770</td>\n",
       "      <td>-0.43478</td>\n",
       "      <td>-0.25469</td>\n",
       "    </tr>\n",
       "    <tr>\n",
       "      <th>...</th>\n",
       "      <td>...</td>\n",
       "      <td>...</td>\n",
       "      <td>...</td>\n",
       "      <td>...</td>\n",
       "      <td>...</td>\n",
       "      <td>...</td>\n",
       "      <td>...</td>\n",
       "      <td>...</td>\n",
       "      <td>...</td>\n",
       "      <td>...</td>\n",
       "      <td>...</td>\n",
       "      <td>...</td>\n",
       "      <td>...</td>\n",
       "      <td>...</td>\n",
       "      <td>...</td>\n",
       "      <td>...</td>\n",
       "      <td>...</td>\n",
       "      <td>...</td>\n",
       "      <td>...</td>\n",
       "      <td>...</td>\n",
       "      <td>...</td>\n",
       "    </tr>\n",
       "    <tr>\n",
       "      <th>995</th>\n",
       "      <td>99.5996</td>\n",
       "      <td>0.00000</td>\n",
       "      <td>-0.00000</td>\n",
       "      <td>0.00000</td>\n",
       "      <td>-0.00000</td>\n",
       "      <td>0.00000</td>\n",
       "      <td>-0.00000</td>\n",
       "      <td>0.00000</td>\n",
       "      <td>-0.00000</td>\n",
       "      <td>0.00000</td>\n",
       "      <td>...</td>\n",
       "      <td>-0.00000</td>\n",
       "      <td>0.00000</td>\n",
       "      <td>-0.00000</td>\n",
       "      <td>0.00000</td>\n",
       "      <td>-0.00000</td>\n",
       "      <td>0.00000</td>\n",
       "      <td>-0.00000</td>\n",
       "      <td>0.00000</td>\n",
       "      <td>-0.00000</td>\n",
       "      <td>0.00000</td>\n",
       "    </tr>\n",
       "    <tr>\n",
       "      <th>996</th>\n",
       "      <td>99.6997</td>\n",
       "      <td>0.00000</td>\n",
       "      <td>-0.00000</td>\n",
       "      <td>0.00000</td>\n",
       "      <td>-0.00000</td>\n",
       "      <td>0.00000</td>\n",
       "      <td>-0.00000</td>\n",
       "      <td>0.00000</td>\n",
       "      <td>-0.00000</td>\n",
       "      <td>0.00000</td>\n",
       "      <td>...</td>\n",
       "      <td>-0.00000</td>\n",
       "      <td>0.00000</td>\n",
       "      <td>-0.00000</td>\n",
       "      <td>0.00000</td>\n",
       "      <td>-0.00000</td>\n",
       "      <td>0.00000</td>\n",
       "      <td>-0.00000</td>\n",
       "      <td>0.00000</td>\n",
       "      <td>-0.00000</td>\n",
       "      <td>0.00000</td>\n",
       "    </tr>\n",
       "    <tr>\n",
       "      <th>997</th>\n",
       "      <td>99.7998</td>\n",
       "      <td>0.00000</td>\n",
       "      <td>-0.00000</td>\n",
       "      <td>0.00000</td>\n",
       "      <td>-0.00000</td>\n",
       "      <td>0.00000</td>\n",
       "      <td>-0.00000</td>\n",
       "      <td>0.00000</td>\n",
       "      <td>-0.00000</td>\n",
       "      <td>0.00000</td>\n",
       "      <td>...</td>\n",
       "      <td>-0.00000</td>\n",
       "      <td>0.00000</td>\n",
       "      <td>-0.00000</td>\n",
       "      <td>0.00000</td>\n",
       "      <td>-0.00000</td>\n",
       "      <td>0.00000</td>\n",
       "      <td>-0.00000</td>\n",
       "      <td>0.00000</td>\n",
       "      <td>-0.00000</td>\n",
       "      <td>0.00000</td>\n",
       "    </tr>\n",
       "    <tr>\n",
       "      <th>998</th>\n",
       "      <td>99.8999</td>\n",
       "      <td>0.00000</td>\n",
       "      <td>-0.00000</td>\n",
       "      <td>0.00000</td>\n",
       "      <td>-0.00000</td>\n",
       "      <td>0.00000</td>\n",
       "      <td>-0.00000</td>\n",
       "      <td>0.00000</td>\n",
       "      <td>-0.00000</td>\n",
       "      <td>0.00000</td>\n",
       "      <td>...</td>\n",
       "      <td>-0.00000</td>\n",
       "      <td>0.00000</td>\n",
       "      <td>-0.00000</td>\n",
       "      <td>0.00000</td>\n",
       "      <td>-0.00000</td>\n",
       "      <td>0.00000</td>\n",
       "      <td>-0.00000</td>\n",
       "      <td>0.00000</td>\n",
       "      <td>-0.00000</td>\n",
       "      <td>0.00000</td>\n",
       "    </tr>\n",
       "    <tr>\n",
       "      <th>999</th>\n",
       "      <td>100.0000</td>\n",
       "      <td>0.00000</td>\n",
       "      <td>-0.00000</td>\n",
       "      <td>0.00000</td>\n",
       "      <td>-0.00000</td>\n",
       "      <td>0.00000</td>\n",
       "      <td>-0.00000</td>\n",
       "      <td>0.00000</td>\n",
       "      <td>-0.00000</td>\n",
       "      <td>0.00000</td>\n",
       "      <td>...</td>\n",
       "      <td>-0.00000</td>\n",
       "      <td>0.00000</td>\n",
       "      <td>-0.00000</td>\n",
       "      <td>0.00000</td>\n",
       "      <td>-0.00000</td>\n",
       "      <td>0.00000</td>\n",
       "      <td>-0.00000</td>\n",
       "      <td>0.00000</td>\n",
       "      <td>-0.00000</td>\n",
       "      <td>0.00000</td>\n",
       "    </tr>\n",
       "  </tbody>\n",
       "</table>\n",
       "<p>1000 rows × 22 columns</p>\n",
       "</div>"
      ],
      "text/plain": [
       "            t      n=0      n=1      n=2      n=3      n=4      n=5      n=6  \\\n",
       "0      0.0000  2.00000  2.00000  2.00000  2.00000  2.00000  2.00000  2.00000   \n",
       "1      0.1001  1.80949  1.08497  0.50550  0.05172 -0.29380 -0.54668 -0.72094   \n",
       "2      0.2002  1.63713  0.32612 -0.45997 -0.86125 -0.98978 -0.93409 -0.76300   \n",
       "3      0.3003  1.48119 -0.29802 -1.00863 -1.07852 -0.80705 -0.39600  0.02583   \n",
       "4      0.4004  1.34010 -0.80621 -1.23375 -0.86012 -0.23551  0.33962  0.72824   \n",
       "..        ...      ...      ...      ...      ...      ...      ...      ...   \n",
       "995   99.5996  0.00000 -0.00000  0.00000 -0.00000  0.00000 -0.00000  0.00000   \n",
       "996   99.6997  0.00000 -0.00000  0.00000 -0.00000  0.00000 -0.00000  0.00000   \n",
       "997   99.7998  0.00000 -0.00000  0.00000 -0.00000  0.00000 -0.00000  0.00000   \n",
       "998   99.8999  0.00000 -0.00000  0.00000 -0.00000  0.00000 -0.00000  0.00000   \n",
       "999  100.0000  0.00000 -0.00000  0.00000 -0.00000  0.00000 -0.00000  0.00000   \n",
       "\n",
       "         n=7      n=8  ...     n=11     n=12     n=13     n=14     n=15  \\\n",
       "0    2.00000  2.00000  ...  2.00000  2.00000  2.00000  2.00000  2.00000   \n",
       "1   -0.82906 -0.88217  ... -0.80442 -0.72510 -0.62955 -0.52282 -0.40925   \n",
       "2   -0.52907 -0.27143  ...  0.40417  0.55421  0.65857  0.71780  0.73477   \n",
       "3    0.38297  0.63795  ...  0.75506  0.62619  0.44937  0.24662  0.03764   \n",
       "4    0.89472  0.86127  ...  0.09748 -0.19735 -0.44519 -0.62440 -0.72499   \n",
       "..       ...      ...  ...      ...      ...      ...      ...      ...   \n",
       "995 -0.00000  0.00000  ... -0.00000  0.00000 -0.00000  0.00000 -0.00000   \n",
       "996 -0.00000  0.00000  ... -0.00000  0.00000 -0.00000  0.00000 -0.00000   \n",
       "997 -0.00000  0.00000  ... -0.00000  0.00000 -0.00000  0.00000 -0.00000   \n",
       "998 -0.00000  0.00000  ... -0.00000  0.00000 -0.00000  0.00000 -0.00000   \n",
       "999 -0.00000  0.00000  ... -0.00000  0.00000 -0.00000  0.00000 -0.00000   \n",
       "\n",
       "        n=16     n=17     n=18     n=19     n=20  \n",
       "0    2.00000  2.00000  2.00000  2.00000  2.00000  \n",
       "1   -0.29253 -0.17579 -0.06163  0.04782  0.15085  \n",
       "2    0.71390  0.66063  0.58092  0.48093  0.36668  \n",
       "3   -0.16110 -0.33677 -0.48021 -0.58574 -0.65081  \n",
       "4   -0.74672 -0.69683 -0.58770 -0.43478 -0.25469  \n",
       "..       ...      ...      ...      ...      ...  \n",
       "995  0.00000 -0.00000  0.00000 -0.00000  0.00000  \n",
       "996  0.00000 -0.00000  0.00000 -0.00000  0.00000  \n",
       "997  0.00000 -0.00000  0.00000 -0.00000  0.00000  \n",
       "998  0.00000 -0.00000  0.00000 -0.00000  0.00000  \n",
       "999  0.00000 -0.00000  0.00000 -0.00000  0.00000  \n",
       "\n",
       "[1000 rows x 22 columns]"
      ]
     },
     "execution_count": 29,
     "metadata": {},
     "output_type": "execute_result"
    }
   ],
   "source": [
    "df"
   ]
  },
  {
   "cell_type": "markdown",
   "id": "83397717-de4a-4fe2-9f6c-2d01bba40fbe",
   "metadata": {
    "tags": []
   },
   "source": [
    "## Обчислення значень інтегралів (4)"
   ]
  },
  {
   "cell_type": "markdown",
   "id": "2b038f50-738e-4155-bce3-e93e46238abd",
   "metadata": {},
   "source": [
    "### Завдання №4\n",
    "Побудувати функцію для обчислення значень інтегралів (1.3) наближено за формулою\n",
    "\n",
    "$$\n",
    "f_{k}=\\int_{0}^{T} f(t) l_{k}(t) e^{-\\alpha t} d t, \\quad k \\in[0, N]\n",
    "$$\n",
    "\n",
    "використовуючи метод прямокутників із заданою точністю $\\varepsilon>0$."
   ]
  },
  {
   "cell_type": "markdown",
   "id": "f34dd32a-f6ca-492e-b499-07559d12b170",
   "metadata": {},
   "source": [
    "### Теоритичні відомості до завдання 4\n",
    "Розглянемо простір Лебега $L_{\\alpha}^{2}\\left(\\mathbb{R}_{+}\\right)$, елементами якого є функції $f: \\mathbb{R}_{+} \\rightarrow \\mathbb{R}$, що задовольняють умову\n",
    "\n",
    "$$\n",
    "\\int_{\\mathbb{R}_{+}}|v(t)|^{2} e^{-\\alpha t} d t<\\infty\n",
    "$$\n",
    "\n",
    "де $\\alpha>0$ - стала, яка пов'язана з параметрами $\\sigma$ і $\\beta$ формулою $\\sigma=\\alpha+\\beta$. Також будемо використовувати простір послідовностей\n",
    "\n",
    "$$\n",
    "l^{2}:=\\left\\{v:=\\left.\\left(v_{0}, v_{1}, \\ldots, v_{j}, \\ldots\\right)^{\\top} \\in \\mathbb{R}^{\\infty}\\left|\\sum_{j=0}^{\\infty}\\right| v_{j}\\right|^{2}<\\infty\\right\\}\n",
    "$$\n",
    "\n",
    "Під ПЛ будемо розуміти відображення $\\mathcal{L}: L_{\\alpha}^{2}\\left(\\mathbb{R}_{+}\\right) \\rightarrow l^{2}$, яке довільній функції $f \\in L_{\\alpha}^{2}\\left(\\mathbb{R}_{+}\\right)$ставить у відповідність послідовність $\\mathbf{f}:=\\left(f_{0}, f_{1}, \\ldots, f_{k}, \\ldots\\right)^{\\top}$ $\\in l^{2}$ за формулою\n",
    "\n",
    "$$\n",
    "f_{k}:=(\\mathcal{L} f)_{k}:=\\int_{\\mathbb{R}_{+}} f(t) l_{k}(t) e^{-\\alpha t} d t, \\quad k \\in \\mathbb{N}_{0} \\quad (1.3)\n",
    "$$"
   ]
  },
  {
   "cell_type": "markdown",
   "id": "bbbb9270-b23a-4321-a217-ae79ad534a50",
   "metadata": {
    "tags": []
   },
   "source": [
    "Спершу реалізована функція quad для обчислення наближеного значення інтегралу методом прямокутників "
   ]
  },
  {
   "cell_type": "code",
   "execution_count": 30,
   "id": "69346677-9ff7-429d-8b0c-42c42b7320cc",
   "metadata": {
    "tags": []
   },
   "outputs": [],
   "source": [
    "def quad(f, a, b, N=10000):\n",
    "    \n",
    "    x = np.linspace(a, b, N)\n",
    "    s = sum([f(i) for i in x])\n",
    "    return s*abs(b-a)/N"
   ]
  },
  {
   "cell_type": "markdown",
   "id": "e329ed01-574f-49b3-917f-0e7af4577da2",
   "metadata": {},
   "source": [
    "В наступній комірці реалізована функція laguerre_transform для обчислення перетворення Лагера"
   ]
  },
  {
   "cell_type": "code",
   "execution_count": 31,
   "id": "51aeeb73-18a2-4f2b-ae9d-965044094dde",
   "metadata": {
    "tags": []
   },
   "outputs": [],
   "source": [
    "def laguerre_transform(f, n, beta = 2.0, sigma = 4.0):\n",
    "    \n",
    "    if n < 0:\n",
    "        raise ValueError('Value \"n\" must be positive')\n",
    "\n",
    "    # Функція для інтегрування\n",
    "    def integrand(t):\n",
    "        return f(t)*laguerre(t, n, beta, sigma)*np.exp(-t*(sigma-beta))\n",
    "\n",
    "    # Верхня межа інтегрування\n",
    "    b = laguerre_experiment(100, beta, sigma)[0]\n",
    "\n",
    "    return quad(integrand, 0, b)"
   ]
  },
  {
   "cell_type": "markdown",
   "id": "2ebc7dfa-da38-4eb7-922d-85d12a7a5611",
   "metadata": {},
   "source": [
    "Тестуємо laguerre_transform на функції $f_1,  n = 6$"
   ]
  },
  {
   "cell_type": "code",
   "execution_count": 32,
   "id": "f94c815a-06d3-46d3-aa22-1738601e7b7e",
   "metadata": {
    "tags": []
   },
   "outputs": [
    {
     "data": {
      "text/plain": [
       "0.00790221830010673"
      ]
     },
     "execution_count": 32,
     "metadata": {},
     "output_type": "execute_result"
    }
   ],
   "source": [
    "f_1 = lambda t: np.exp(-t**2/2)\n",
    "laguerre_transform(f_1, 6)"
   ]
  },
  {
   "cell_type": "markdown",
   "id": "53cad898-9953-4e24-9ba1-442b9de546cf",
   "metadata": {},
   "source": [
    "## Перетворення Лагера (5)"
   ]
  },
  {
   "cell_type": "markdown",
   "id": "4203a55c-57b3-4127-8521-3b45d61d5235",
   "metadata": {},
   "source": [
    "### Завдання №5\n",
    " Для функції\n",
    "\n",
    "$$\n",
    "f(t)=\\left\\{\\begin{array}{l}\n",
    "\\sin (t-\\pi / 2)+1, t \\in[0,2 \\pi] \\\\\n",
    "0, t \\geq 2 \\pi\n",
    "\\end{array}\\right.\n",
    "$$\n",
    "\n",
    "виконати ПЛ, а саме знайти коефіцієнти $\\mathbf{f}^{N}:=\\left(f_{0}, f_{1}, \\ldots, f_{N}\\right)^{\\top}$ при $N=20$."
   ]
  },
  {
   "cell_type": "markdown",
   "id": "563db760-b8ed-4985-bb0e-5b632cf70a85",
   "metadata": {},
   "source": [
    "Нижче наведена реалізація функції для табулювання перетворення Лагера, яка повертає DataFrame з коефіцієнтами $\\mathbf{f}^{N}:=\\left(f_{0}, f_{1}, \\ldots, f_{N}\\right)^{\\top}$ при $N=20$."
   ]
  },
  {
   "cell_type": "code",
   "execution_count": 33,
   "id": "a3eba3ff-c2f7-4ea3-9d52-5d8d8bb36c14",
   "metadata": {
    "tags": []
   },
   "outputs": [],
   "source": [
    "def tabulate_tranformation(f, N, beta, sigma):\n",
    "    t = range(0, N+1)\n",
    "    results = [laguerre_transform(f, n, beta, sigma) for n in t]\n",
    "    df = pd.DataFrame({\"n\": t, \"result\": results})\n",
    "    return df\n"
   ]
  },
  {
   "cell_type": "markdown",
   "id": "201007a4-4fe3-41df-9482-3faae0f3c27e",
   "metadata": {},
   "source": [
    "Реалізація функції $$\n",
    "f(t)=\\left\\{\\begin{array}{l}\n",
    "\\sin (t-\\pi / 2)+1, t \\in[0,2 \\pi] \\\\\n",
    "0, t \\geq 2 \\pi\n",
    "\\end{array}\\right.\n",
    "$$"
   ]
  },
  {
   "cell_type": "code",
   "execution_count": 34,
   "id": "6872849b-692f-477e-a611-0f53b0b2827b",
   "metadata": {
    "tags": []
   },
   "outputs": [],
   "source": [
    "def f(t):\n",
    "    if t >= 0 and t <= 2*np.pi:\n",
    "        return np.sin(t-np.pi/2) + 1\n",
    "    else:\n",
    "        return 0"
   ]
  },
  {
   "cell_type": "markdown",
   "id": "376977b1-05a8-4990-8f6b-633ac76b734c",
   "metadata": {},
   "source": [
    "Тестуємо tabulate_tranformation"
   ]
  },
  {
   "cell_type": "code",
   "execution_count": 35,
   "id": "1f461407-b53e-42f2-b885-1bb441465a73",
   "metadata": {
    "tags": []
   },
   "outputs": [
    {
     "data": {
      "text/html": [
       "<div>\n",
       "<style scoped>\n",
       "    .dataframe tbody tr th:only-of-type {\n",
       "        vertical-align: middle;\n",
       "    }\n",
       "\n",
       "    .dataframe tbody tr th {\n",
       "        vertical-align: top;\n",
       "    }\n",
       "\n",
       "    .dataframe thead th {\n",
       "        text-align: right;\n",
       "    }\n",
       "</style>\n",
       "<table border=\"1\" class=\"dataframe\">\n",
       "  <thead>\n",
       "    <tr style=\"text-align: right;\">\n",
       "      <th></th>\n",
       "      <th>n</th>\n",
       "      <th>result</th>\n",
       "    </tr>\n",
       "  </thead>\n",
       "  <tbody>\n",
       "    <tr>\n",
       "      <th>0</th>\n",
       "      <td>0</td>\n",
       "      <td>0.066660</td>\n",
       "    </tr>\n",
       "    <tr>\n",
       "      <th>1</th>\n",
       "      <td>1</td>\n",
       "      <td>-0.182204</td>\n",
       "    </tr>\n",
       "    <tr>\n",
       "      <th>2</th>\n",
       "      <td>2</td>\n",
       "      <td>0.178056</td>\n",
       "    </tr>\n",
       "    <tr>\n",
       "      <th>3</th>\n",
       "      <td>3</td>\n",
       "      <td>-0.074283</td>\n",
       "    </tr>\n",
       "    <tr>\n",
       "      <th>4</th>\n",
       "      <td>4</td>\n",
       "      <td>0.007263</td>\n",
       "    </tr>\n",
       "    <tr>\n",
       "      <th>5</th>\n",
       "      <td>5</td>\n",
       "      <td>0.007587</td>\n",
       "    </tr>\n",
       "    <tr>\n",
       "      <th>6</th>\n",
       "      <td>6</td>\n",
       "      <td>-0.003096</td>\n",
       "    </tr>\n",
       "    <tr>\n",
       "      <th>7</th>\n",
       "      <td>7</td>\n",
       "      <td>-0.000615</td>\n",
       "    </tr>\n",
       "    <tr>\n",
       "      <th>8</th>\n",
       "      <td>8</td>\n",
       "      <td>0.000799</td>\n",
       "    </tr>\n",
       "    <tr>\n",
       "      <th>9</th>\n",
       "      <td>9</td>\n",
       "      <td>-0.000026</td>\n",
       "    </tr>\n",
       "    <tr>\n",
       "      <th>10</th>\n",
       "      <td>10</td>\n",
       "      <td>-0.000236</td>\n",
       "    </tr>\n",
       "    <tr>\n",
       "      <th>11</th>\n",
       "      <td>11</td>\n",
       "      <td>0.000053</td>\n",
       "    </tr>\n",
       "    <tr>\n",
       "      <th>12</th>\n",
       "      <td>12</td>\n",
       "      <td>0.000094</td>\n",
       "    </tr>\n",
       "    <tr>\n",
       "      <th>13</th>\n",
       "      <td>13</td>\n",
       "      <td>-0.000031</td>\n",
       "    </tr>\n",
       "    <tr>\n",
       "      <th>14</th>\n",
       "      <td>14</td>\n",
       "      <td>-0.000053</td>\n",
       "    </tr>\n",
       "    <tr>\n",
       "      <th>15</th>\n",
       "      <td>15</td>\n",
       "      <td>0.000011</td>\n",
       "    </tr>\n",
       "    <tr>\n",
       "      <th>16</th>\n",
       "      <td>16</td>\n",
       "      <td>0.000036</td>\n",
       "    </tr>\n",
       "    <tr>\n",
       "      <th>17</th>\n",
       "      <td>17</td>\n",
       "      <td>0.000005</td>\n",
       "    </tr>\n",
       "    <tr>\n",
       "      <th>18</th>\n",
       "      <td>18</td>\n",
       "      <td>-0.000023</td>\n",
       "    </tr>\n",
       "    <tr>\n",
       "      <th>19</th>\n",
       "      <td>19</td>\n",
       "      <td>-0.000015</td>\n",
       "    </tr>\n",
       "    <tr>\n",
       "      <th>20</th>\n",
       "      <td>20</td>\n",
       "      <td>0.000009</td>\n",
       "    </tr>\n",
       "  </tbody>\n",
       "</table>\n",
       "</div>"
      ],
      "text/plain": [
       "     n    result\n",
       "0    0  0.066660\n",
       "1    1 -0.182204\n",
       "2    2  0.178056\n",
       "3    3 -0.074283\n",
       "4    4  0.007263\n",
       "5    5  0.007587\n",
       "6    6 -0.003096\n",
       "7    7 -0.000615\n",
       "8    8  0.000799\n",
       "9    9 -0.000026\n",
       "10  10 -0.000236\n",
       "11  11  0.000053\n",
       "12  12  0.000094\n",
       "13  13 -0.000031\n",
       "14  14 -0.000053\n",
       "15  15  0.000011\n",
       "16  16  0.000036\n",
       "17  17  0.000005\n",
       "18  18 -0.000023\n",
       "19  19 -0.000015\n",
       "20  20  0.000009"
      ]
     },
     "execution_count": 35,
     "metadata": {},
     "output_type": "execute_result"
    }
   ],
   "source": [
    "tabulate_tranformation(f, 20, 2, 4)"
   ]
  },
  {
   "cell_type": "markdown",
   "id": "c73322bd-c3b1-498b-9138-d127650d6550",
   "metadata": {
    "tags": []
   },
   "source": [
    "## Обернене перетворення Лагера (6)"
   ]
  },
  {
   "cell_type": "markdown",
   "id": "d95b4579-c561-4a01-b853-b568933b99fe",
   "metadata": {},
   "source": [
    "### Завдання №6\n",
    "Побудувати функцію, яка для заданої послідовності\n",
    "\n",
    "$$\n",
    "\\mathbf{h}^{N}=\\left(h_{0}, h_{1}, \\ldots, h_{k}, \\ldots h_{N}, 0,0, \\ldots\\right)^{\\top}, \\quad N \\in \\mathbb{N}\n",
    "$$\n",
    "\n",
    "(яка має скінчене число відмінних від нуля елементів) обчислює значення функції $\\widetilde{h}^{N}(t)$ у точці $t \\in \\mathbb{R}_{+}$за формулою (1.4)."
   ]
  },
  {
   "cell_type": "markdown",
   "id": "49795b02-8e21-4dc0-bff5-d4a24b88b455",
   "metadata": {},
   "source": [
    "### Теоритичні відомості до завдання 6\n",
    "Під оберненим ПЛ будемо розуміти відображення $\\mathcal{L}^{-1}: l^{2} \\rightarrow L_{\\alpha}^{2}\\left(\\mathbb{R}_{+}\\right)$, яке довільній послідовності $\\mathbf{h}=\\left(h_{0}, h_{1}, \\ldots, h_{k}, \\ldots\\right)^{\\top}$ ставить у відповідність функцію $h$ за формулою\n",
    "\n",
    "$$\n",
    "h(t) \\equiv\\left(\\mathcal{L}^{-1} \\mathbf{h}\\right)(t):=\\sum_{k=0}^{\\infty} h_{k} l_{k}(t), \\quad t \\in \\mathbb{R}_{+} \\quad (1.4)\n",
    "$$\n",
    "Для довільної функції $f \\in L_{\\alpha}^{2}\\left(\\mathbb{R}_{+}\\right)$маємо рівність\n",
    "\n",
    "$$\n",
    "\\mathcal{L}^{-1} \\mathcal{L} f=f \\quad (1.5)\n",
    "$$"
   ]
  },
  {
   "cell_type": "markdown",
   "id": "79ab104f-6374-4fe0-bbbf-99fd07e1b8c3",
   "metadata": {},
   "source": [
    "Реалізація функції для обчислення оберненого перетворення Лагера"
   ]
  },
  {
   "cell_type": "code",
   "execution_count": 36,
   "id": "7523c149-4e26-412f-b46b-91cc2112adc1",
   "metadata": {
    "tags": []
   },
   "outputs": [],
   "source": [
    "def inverse_laguerre_transform(h, t, beta = 2.0, sigma = 4.0\n",
    "):\n",
    "    # Обчислення\n",
    "    return sum([h[k] * laguerre(t, k, beta, sigma) for k in range(0, len(h))])"
   ]
  },
  {
   "cell_type": "markdown",
   "id": "0238e1d5-6bec-40fd-8625-e2d58d560138",
   "metadata": {},
   "source": [
    "Отримуємо послідовність h з табуляції перетворення Лагера"
   ]
  },
  {
   "cell_type": "code",
   "execution_count": 37,
   "id": "631d6d83-bf84-4206-9d49-596f4d235417",
   "metadata": {
    "tags": []
   },
   "outputs": [],
   "source": [
    "h = tabulate_tranformation(f, 20, 2.0, 4.0)[\"result\"].tolist()"
   ]
  },
  {
   "cell_type": "markdown",
   "id": "fcf487b3-8531-43fb-8e58-d87258375cd8",
   "metadata": {
    "tags": []
   },
   "source": [
    "Тестуємо обернене перетворення Лагера"
   ]
  },
  {
   "cell_type": "code",
   "execution_count": 38,
   "id": "e4567177-6ca8-4233-8520-5bbedcf02978",
   "metadata": {
    "tags": []
   },
   "outputs": [
    {
     "data": {
      "text/plain": [
       "1.4159846887860223"
      ]
     },
     "execution_count": 38,
     "metadata": {},
     "output_type": "execute_result"
    }
   ],
   "source": [
    "inverse_laguerre_transform(h, 2, 2.0, 4.0)"
   ]
  },
  {
   "cell_type": "markdown",
   "id": "50085124-095c-4465-810c-2a7bff50e461",
   "metadata": {},
   "source": [
    "## Графік функції Лагера (7)"
   ]
  },
  {
   "cell_type": "markdown",
   "id": "23a63bea-99bb-49ad-a15f-a85a7cb337ed",
   "metadata": {},
   "source": [
    "### Завдання №7\n",
    "За даними завдання 2 побудувати графіки функцій Лагерра $l_{n}(t), t \\in$ $[0, T], n \\in[0, N]$."
   ]
  },
  {
   "cell_type": "markdown",
   "id": "03c91fb7-6a26-4eaa-bf0b-50c359bdbb12",
   "metadata": {},
   "source": [
    "Реалізація функції для побудови графіку многочленів Лагера\n",
    "\n",
    "Доступний слайдер для зміни значень $t$ та $n$\n"
   ]
  },
  {
   "cell_type": "code",
   "execution_count": 39,
   "id": "4ff2b131-f80a-4fc2-aaab-a620fa2b0d58",
   "metadata": {
    "tags": []
   },
   "outputs": [],
   "source": [
    "def laguerre_graph(t, n, t_step=0.1, beta=2.0, sigma=4.0):\n",
    "    plt.figure(figsize=(12, 8))\n",
    "\n",
    "    for n in range(0, n + 1):\n",
    "        t_data, data = tabulate_laguerre(t, t_step, n, beta, sigma)\n",
    "        plt.plot(t_data, data, label=\"$L_{\" + str(n) + \"}$\")\n",
    "\n",
    "    plt.title('Многочлени Лагера')\n",
    "    plt.grid()\n",
    "    plt.legend(loc=\"upper left\", bbox_to_anchor=(-0.2, 1))\n",
    "    plt.xlabel(\"t\")\n",
    "    plt.ylabel(\"$L_n(t)$\")\n",
    "    \n",
    "    plt.savefig(\"L_n_plot\")\n",
    "    plt.show()"
   ]
  },
  {
   "cell_type": "markdown",
   "id": "3875dfce-333f-4b6d-80cf-7abf444d09a3",
   "metadata": {},
   "source": [
    "Тестуємо laguerre_graph при $t = 4, n = 20$"
   ]
  },
  {
   "cell_type": "code",
   "execution_count": 40,
   "id": "fe7e0990-53cd-4dd8-9e9f-1f3e1554b115",
   "metadata": {},
   "outputs": [
    {
     "data": {
      "application/vnd.jupyter.widget-view+json": {
       "model_id": "1fafc403d4784f1e9dcfa984a6084eeb",
       "version_major": 2,
       "version_minor": 0
      },
      "text/plain": [
       "interactive(children=(IntSlider(value=10, description='t', max=20, min=1), IntSlider(value=20, description='n'…"
      ]
     },
     "execution_count": 40,
     "metadata": {},
     "output_type": "execute_result"
    }
   ],
   "source": [
    "# Створення слайдера для параметру n\n",
    "n_slider = IntSlider(min=0, max=30, step=1, value=20)\n",
    "t_slider = IntSlider(min=1, max=20, step=1, value=10)\n",
    "interactive(laguerre_graph, t = t_slider, n = n_slider, t_step = fixed(0.1), beta = fixed(2.0), sigma = fixed(4.0))"
   ]
  },
  {
   "cell_type": "markdown",
   "id": "4160dcde-ae9f-4716-b659-7c81738cdd1c",
   "metadata": {},
   "source": [
    "## Графік $\\widetilde{f}^N(t), t\\in[0, 2\\pi]$ (8)"
   ]
  },
  {
   "cell_type": "markdown",
   "id": "d23ce33d-d9bc-4bfb-b555-117871e5fe52",
   "metadata": {
    "tags": []
   },
   "source": [
    "### Завдання №8\n",
    "Для функції (1.7) виконати пряме і обернене ПЛ при деяких значеннях $N$. Побудувати графік функції $\\widetilde{f}^{N}(t), t \\in[0,2 \\pi]$."
   ]
  },
  {
   "cell_type": "markdown",
   "id": "7c0eb77d-1945-497c-905c-d7d0e39f3315",
   "metadata": {
    "tags": []
   },
   "source": [
    "Реалізація функції для побудови графіку перетворення Лагера\n",
    "\n",
    "Доступний слайдер для зміни значення $n$"
   ]
  },
  {
   "cell_type": "code",
   "execution_count": 41,
   "id": "61394529-8410-4c4f-983c-91edf98263c5",
   "metadata": {
    "tags": []
   },
   "outputs": [],
   "source": [
    "def laguerre_transform_graph(f, n, name, t = np.pi * 2, t_step = 0.01, beta = 2.0, sigma = 4.0):\n",
    "    # Обчислення послідовності h\n",
    "    h = tabulate_tranformation(f, n, beta, sigma)[\"result\"].tolist()\n",
    "\n",
    "    # Табулювання\n",
    "    T = np.arange(0, t, t_step)\n",
    "    inverse_laguerre_transform_tabulation = pd.DataFrame({\"t\": T,\"h\": [inverse_laguerre_transform(h, t, beta, sigma) for t in T]})\n",
    "\n",
    "    # Побудова графіків\n",
    "    plt.figure(figsize=(12, 8))\n",
    "\n",
    "    plt.plot(inverse_laguerre_transform_tabulation[\"t\"],inverse_laguerre_transform_tabulation[\"h\"],)\n",
    "\n",
    "    plt.title('Обернене перетворення Лагера')\n",
    "    plt.xlabel('t')\n",
    "    plt.ylabel(r'$\\widetilde{f}^N(t)$')\n",
    "    plt.grid()\n",
    "    plt.savefig(name)\n",
    "    plt.show()"
   ]
  },
  {
   "cell_type": "markdown",
   "id": "6a039c11-ab7c-44ca-bfb7-3bf9f431d853",
   "metadata": {},
   "source": [
    "Тестуємо функцію при $$\n",
    "f(t)=\\left\\{\\begin{array}{l}\n",
    "\\sin (t-\\pi / 2)+1, t \\in[0,2 \\pi] \\\\\n",
    "0, t \\geq 2 \\pi\n",
    "\\end{array}\\right.\n",
    "$$\n",
    "$n=20$"
   ]
  },
  {
   "cell_type": "code",
   "execution_count": 42,
   "id": "ae5bbd49-2e90-494d-b23a-062ab7d1f4c5",
   "metadata": {
    "tags": []
   },
   "outputs": [
    {
     "data": {
      "application/vnd.jupyter.widget-view+json": {
       "model_id": "971d98d82ef24b4190051130f1910ef5",
       "version_major": 2,
       "version_minor": 0
      },
      "text/plain": [
       "interactive(children=(IntSlider(value=20, description='n', max=30), Output()), _dom_classes=('widget-interact'…"
      ]
     },
     "execution_count": 42,
     "metadata": {},
     "output_type": "execute_result"
    }
   ],
   "source": [
    "# Створення слайдера для параметру n\n",
    "n_slider = IntSlider(min=0, max=30, step=1, value=20)\n",
    "\n",
    "# Застосування інтерактивності до функції\n",
    "interactive(laguerre_transform_graph, f=fixed(f), n=n_slider, name=fixed(\"lag_transfrm_1.png\"), t = fixed(np.pi*2), t_step = fixed(0.01), beta = fixed(2), sigma = fixed(4))"
   ]
  },
  {
   "cell_type": "markdown",
   "id": "5f32309f-37ce-4740-b6fb-bbf45f8cdf72",
   "metadata": {},
   "source": [
    "Власна функція - Спіраль Архімеда\n",
    "Реалізація наведена нижче"
   ]
  },
  {
   "cell_type": "code",
   "execution_count": 43,
   "id": "56353bca-519a-49c9-83c1-06f728f1e9f6",
   "metadata": {
    "tags": []
   },
   "outputs": [],
   "source": [
    "def f_own(t, a = 2, b = 4):\n",
    "    r = a + b * t\n",
    "    x = r * np.cos(t)\n",
    "    y = r * np.sin(t)\n",
    "    return x*y"
   ]
  },
  {
   "cell_type": "markdown",
   "id": "eb2d6195-bad8-4f94-b8fa-58a4de709b9b",
   "metadata": {
    "tags": []
   },
   "source": [
    "Тестуємо функцію"
   ]
  },
  {
   "cell_type": "code",
   "execution_count": 44,
   "id": "97bd706c-9765-40ea-b9ec-323726ae767a",
   "metadata": {
    "tags": []
   },
   "outputs": [
    {
     "data": {
      "application/vnd.jupyter.widget-view+json": {
       "model_id": "1dd16600bd6343d38f8a1827219706f7",
       "version_major": 2,
       "version_minor": 0
      },
      "text/plain": [
       "interactive(children=(IntSlider(value=20, description='n', max=30), Output()), _dom_classes=('widget-interact'…"
      ]
     },
     "execution_count": 44,
     "metadata": {},
     "output_type": "execute_result"
    }
   ],
   "source": [
    "# Створення слайдера для параметру n\n",
    "n_slider = IntSlider(min=0, max=30, step=1, value=20)\n",
    "\n",
    "# Застосування інтерактивності до функції\n",
    "interactive(laguerre_transform_graph, f=fixed(f_own), n=n_slider, name=fixed(\"lag_transfrm_2.png\"), t = fixed(np.pi*2), t_step = fixed(0.01), beta = fixed(2), sigma = fixed(4))"
   ]
  },
  {
   "cell_type": "markdown",
   "id": "f1221a20-9dc4-4abe-b87c-a9b29b4cf812",
   "metadata": {},
   "source": [
    "## Висновок\n",
    "Під час роботи у Jupyter Lab було розроблено програми для роботи з функціями Лагерра та їх трансформаціями. Використовуючи мову програмування Python та бібліотеки NumPy, Matplotlib та Pandas, було створено функції для обчислення значень функцій Лагерра, табулювання їх на вказаному відрізку, обчислення та візуалізації оберненого перетворення Лагерра, також доступні слайдери для зміни значень змінних.\n",
    "\n",
    "Програми дозволяють обчислювати значення функцій Лагерра для різних параметрів та побудовувати графіки цих функцій. Також розроблено та використано функції для перетворення та оберненого перетворення Лагерра для довільних функцій, що дозволяє аналізувати їхні властивості відносно цих многочленів.\n",
    "\n",
    "Результати виконання програм відображаються у вигляді графіків функцій Лагерра, результатів трансформацій та обернених трансформацій для різних функцій та параметрів. Програми забезпечують можливість аналізу та дослідження функцій Лагерра та їх використання у різних математичних контекстах."
   ]
  }
 ],
 "metadata": {
  "kernelspec": {
   "display_name": "Python 3 (ipykernel)",
   "language": "python",
   "name": "python3"
  },
  "language_info": {
   "codemirror_mode": {
    "name": "ipython",
    "version": 3
   },
   "file_extension": ".py",
   "mimetype": "text/x-python",
   "name": "python",
   "nbconvert_exporter": "python",
   "pygments_lexer": "ipython3",
   "version": "3.11.4"
  }
 },
 "nbformat": 4,
 "nbformat_minor": 5
}
